{
 "cells": [
  {
   "cell_type": "markdown",
   "id": "899586b2-b7fd-46ee-9ac5-0e5da962fcab",
   "metadata": {},
   "source": [
    "#### Import required library"
   ]
  },
  {
   "cell_type": "code",
   "execution_count": 98,
   "id": "edef5c47-caff-4259-b03c-12293ab25eb4",
   "metadata": {},
   "outputs": [],
   "source": [
    "from sklearn.naive_bayes import MultinomialNB\n",
    "from sklearn.metrics import accuracy_score\n",
    "from sklearn.model_selection import train_test_split\n",
    "import pandas as pd\n",
    "import numpy as np"
   ]
  },
  {
   "cell_type": "markdown",
   "id": "a260c220-83d8-494f-9bbe-a7b6f8b1fc26",
   "metadata": {},
   "source": [
    "#### Load the data"
   ]
  },
  {
   "cell_type": "code",
   "execution_count": 89,
   "id": "de7b4013-7db5-4bd8-adb5-a2ff4bdb5b36",
   "metadata": {},
   "outputs": [],
   "source": [
    "data=pd.read_csv(\"C:\\\\Users\\\\hp\\\\Downloads\\\\new_data.csv\");"
   ]
  },
  {
   "cell_type": "code",
   "execution_count": 60,
   "id": "eb4e0362-4bdb-49c9-a145-506786c01472",
   "metadata": {},
   "outputs": [],
   "source": [
    "pd.set_option('display.max_colwidth', None)"
   ]
  },
  {
   "cell_type": "markdown",
   "id": "7187850a-776c-4663-bf89-f21f6334c791",
   "metadata": {},
   "source": [
    "#### display the data"
   ]
  },
  {
   "cell_type": "code",
   "execution_count": 61,
   "id": "433f4fcc-82df-41e6-9f65-f79e54462fdc",
   "metadata": {},
   "outputs": [
    {
     "data": {
      "text/html": [
       "<div>\n",
       "<style scoped>\n",
       "    .dataframe tbody tr th:only-of-type {\n",
       "        vertical-align: middle;\n",
       "    }\n",
       "\n",
       "    .dataframe tbody tr th {\n",
       "        vertical-align: top;\n",
       "    }\n",
       "\n",
       "    .dataframe thead th {\n",
       "        text-align: right;\n",
       "    }\n",
       "</style>\n",
       "<table border=\"1\" class=\"dataframe\">\n",
       "  <thead>\n",
       "    <tr style=\"text-align: right;\">\n",
       "      <th></th>\n",
       "      <th>Disease</th>\n",
       "      <th>Symptoms</th>\n",
       "    </tr>\n",
       "  </thead>\n",
       "  <tbody>\n",
       "    <tr>\n",
       "      <th>0</th>\n",
       "      <td>Fungal infection</td>\n",
       "      <td>Fungal infection,itching, skin_rash, nodal_skin_eruptions, dischromic _patches,</td>\n",
       "    </tr>\n",
       "    <tr>\n",
       "      <th>1</th>\n",
       "      <td>Fungal infection</td>\n",
       "      <td>Fungal infection, skin_rash, nodal_skin_eruptions, dischromic _patches,,</td>\n",
       "    </tr>\n",
       "    <tr>\n",
       "      <th>2</th>\n",
       "      <td>Fungal infection</td>\n",
       "      <td>Fungal infection,itching, nodal_skin_eruptions, dischromic _patches,,</td>\n",
       "    </tr>\n",
       "    <tr>\n",
       "      <th>3</th>\n",
       "      <td>Fungal infection</td>\n",
       "      <td>Fungal infection,itching, skin_rash, dischromic _patches,,</td>\n",
       "    </tr>\n",
       "    <tr>\n",
       "      <th>4</th>\n",
       "      <td>Fungal infection</td>\n",
       "      <td>Fungal infection,itching, skin_rash, nodal_skin_eruptions,,</td>\n",
       "    </tr>\n",
       "    <tr>\n",
       "      <th>...</th>\n",
       "      <td>...</td>\n",
       "      <td>...</td>\n",
       "    </tr>\n",
       "    <tr>\n",
       "      <th>4915</th>\n",
       "      <td>(vertigo) Paroymsal  Positional Vertigo</td>\n",
       "      <td>(vertigo) Paroymsal  Positional Vertigo, vomiting, headache, nausea, spinning_movements, loss_of_balance</td>\n",
       "    </tr>\n",
       "    <tr>\n",
       "      <th>4916</th>\n",
       "      <td>Acne</td>\n",
       "      <td>Acne, skin_rash, pus_filled_pimples, blackheads, scurring,</td>\n",
       "    </tr>\n",
       "    <tr>\n",
       "      <th>4917</th>\n",
       "      <td>Urinary tract infection</td>\n",
       "      <td>Urinary tract infection, burning_micturition, bladder_discomfort, foul_smell_of urine, continuous_feel_of_urine,</td>\n",
       "    </tr>\n",
       "    <tr>\n",
       "      <th>4918</th>\n",
       "      <td>Psoriasis</td>\n",
       "      <td>Psoriasis, skin_rash, joint_pain, skin_peeling, silver_like_dusting, small_dents_in_nails</td>\n",
       "    </tr>\n",
       "    <tr>\n",
       "      <th>4919</th>\n",
       "      <td>Impetigo</td>\n",
       "      <td>Impetigo, skin_rash, high_fever, blister, red_sore_around_nose, yellow_crust_ooze</td>\n",
       "    </tr>\n",
       "  </tbody>\n",
       "</table>\n",
       "<p>4920 rows × 2 columns</p>\n",
       "</div>"
      ],
      "text/plain": [
       "                                      Disease  \\\n",
       "0                            Fungal infection   \n",
       "1                            Fungal infection   \n",
       "2                            Fungal infection   \n",
       "3                            Fungal infection   \n",
       "4                            Fungal infection   \n",
       "...                                       ...   \n",
       "4915  (vertigo) Paroymsal  Positional Vertigo   \n",
       "4916                                     Acne   \n",
       "4917                  Urinary tract infection   \n",
       "4918                                Psoriasis   \n",
       "4919                                 Impetigo   \n",
       "\n",
       "                                                                                                              Symptoms  \n",
       "0                                      Fungal infection,itching, skin_rash, nodal_skin_eruptions, dischromic _patches,  \n",
       "1                                             Fungal infection, skin_rash, nodal_skin_eruptions, dischromic _patches,,  \n",
       "2                                                Fungal infection,itching, nodal_skin_eruptions, dischromic _patches,,  \n",
       "3                                                           Fungal infection,itching, skin_rash, dischromic _patches,,  \n",
       "4                                                          Fungal infection,itching, skin_rash, nodal_skin_eruptions,,  \n",
       "...                                                                                                                ...  \n",
       "4915          (vertigo) Paroymsal  Positional Vertigo, vomiting, headache, nausea, spinning_movements, loss_of_balance  \n",
       "4916                                                        Acne, skin_rash, pus_filled_pimples, blackheads, scurring,  \n",
       "4917  Urinary tract infection, burning_micturition, bladder_discomfort, foul_smell_of urine, continuous_feel_of_urine,  \n",
       "4918                         Psoriasis, skin_rash, joint_pain, skin_peeling, silver_like_dusting, small_dents_in_nails  \n",
       "4919                                 Impetigo, skin_rash, high_fever, blister, red_sore_around_nose, yellow_crust_ooze  \n",
       "\n",
       "[4920 rows x 2 columns]"
      ]
     },
     "execution_count": 61,
     "metadata": {},
     "output_type": "execute_result"
    }
   ],
   "source": [
    "data"
   ]
  },
  {
   "cell_type": "markdown",
   "id": "e19701d5-9e27-482b-9cda-325c597c59f4",
   "metadata": {},
   "source": [
    "#### Split the data into input features and target variable"
   ]
  },
  {
   "cell_type": "code",
   "execution_count": 62,
   "id": "ffc0f6c0-92e8-4be2-824a-d0eafc416c1c",
   "metadata": {},
   "outputs": [],
   "source": [
    "X = data['Symptoms']\n",
    "y = data['Disease']"
   ]
  },
  {
   "cell_type": "markdown",
   "id": "efbd8a88-2847-49d4-9b52-1c85700792ff",
   "metadata": {},
   "source": [
    "#### Convert the symptoms to a bag-of-words representation"
   ]
  },
  {
   "cell_type": "code",
   "execution_count": 63,
   "id": "5a8fd99d-5c17-44b8-a0d6-f7907ba54744",
   "metadata": {},
   "outputs": [],
   "source": [
    "from sklearn.feature_extraction.text import CountVectorizer\n",
    "vectorizer = CountVectorizer()\n",
    "X = vectorizer.fit_transform(X)\n"
   ]
  },
  {
   "cell_type": "markdown",
   "id": "612762da-b357-48c7-bdc7-1569d9998ac8",
   "metadata": {},
   "source": [
    "#### Split the data into training and testing sets"
   ]
  },
  {
   "cell_type": "code",
   "execution_count": 64,
   "id": "f349646d-a342-49c3-99ca-dbd453f815bd",
   "metadata": {},
   "outputs": [],
   "source": [
    "X_train, X_test, y_train, y_test = train_test_split(X, y, test_size=0.2, random_state=42)"
   ]
  },
  {
   "cell_type": "markdown",
   "id": "c7528617-3624-4947-a9c3-e9f10bf3f111",
   "metadata": {},
   "source": [
    "#### Train the model"
   ]
  },
  {
   "cell_type": "code",
   "execution_count": 65,
   "id": "6301f7ad-1ff1-41c1-be6e-b9b37c4c1ad8",
   "metadata": {},
   "outputs": [
    {
     "data": {
      "text/plain": [
       "MultinomialNB()"
      ]
     },
     "execution_count": 65,
     "metadata": {},
     "output_type": "execute_result"
    }
   ],
   "source": [
    "clf = MultinomialNB()\n",
    "clf.fit(X_train, y_train)"
   ]
  },
  {
   "cell_type": "markdown",
   "id": "2631cb1d-ac38-4867-afc0-d20f4b442d80",
   "metadata": {},
   "source": [
    "#### Predict on the test set"
   ]
  },
  {
   "cell_type": "code",
   "execution_count": 66,
   "id": "fc90b600-ec98-414b-bb87-058985b9e4c0",
   "metadata": {},
   "outputs": [],
   "source": [
    "y_pred = clf.predict(X_test)"
   ]
  },
  {
   "cell_type": "markdown",
   "id": "5d48e354-5342-423a-a4b4-9c807ae2bcec",
   "metadata": {},
   "source": [
    "#### Evaluate the accuracy"
   ]
  },
  {
   "cell_type": "code",
   "execution_count": 67,
   "id": "b6c8d71b-19fa-402e-963a-95b4f7a3a06f",
   "metadata": {},
   "outputs": [
    {
     "name": "stdout",
     "output_type": "stream",
     "text": [
      "Accuracy: 1.00\n"
     ]
    }
   ],
   "source": [
    "accuracy = accuracy_score(y_test, y_pred)\n",
    "print(f\"Accuracy: {accuracy:.2f}\")"
   ]
  },
  {
   "cell_type": "markdown",
   "id": "9b88532d-35c2-4dec-9f26-d1935d3108b4",
   "metadata": {},
   "source": [
    "#### making prediction"
   ]
  },
  {
   "cell_type": "code",
   "execution_count": 99,
   "id": "d7af6275-c5ae-44d6-ae2a-6bd12d43e89c",
   "metadata": {},
   "outputs": [],
   "source": [
    "new_symptoms=['Allergy', 'shivering', 'chills', 'watering_from_eyes,,']\n",
    "new_symptoms_vectorized = vectorizer.transform(new_symptoms)\n",
    "prediction = clf.predict(new_symptoms_vectorized)"
   ]
  },
  {
   "cell_type": "code",
   "execution_count": 100,
   "id": "707f6217-fc65-4f3e-8736-4bb3ff44cd7b",
   "metadata": {},
   "outputs": [
    {
     "name": "stdout",
     "output_type": "stream",
     "text": [
      "Predicted disease: Allergy\n"
     ]
    }
   ],
   "source": [
    "print(\"Predicted disease:\", prediction[0])"
   ]
  },
  {
   "cell_type": "code",
   "execution_count": null,
   "id": "77415871-35c9-425c-937b-7b2286f24ca5",
   "metadata": {},
   "outputs": [],
   "source": []
  }
 ],
 "metadata": {
  "kernelspec": {
   "display_name": "Python 3 (ipykernel)",
   "language": "python",
   "name": "python3"
  },
  "language_info": {
   "codemirror_mode": {
    "name": "ipython",
    "version": 3
   },
   "file_extension": ".py",
   "mimetype": "text/x-python",
   "name": "python",
   "nbconvert_exporter": "python",
   "pygments_lexer": "ipython3",
   "version": "3.9.12"
  }
 },
 "nbformat": 4,
 "nbformat_minor": 5
}
